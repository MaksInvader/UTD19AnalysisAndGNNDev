{
 "cells": [
  {
   "cell_type": "code",
   "execution_count": 1,
   "id": "47b86bfb-ffab-4c09-b9a7-4d44d9910dff",
   "metadata": {},
   "outputs": [
    {
     "name": "stdout",
     "output_type": "stream",
     "text": [
      "Starting script\n"
     ]
    },
    {
     "name": "stdin",
     "output_type": "stream",
     "text": [
      "Enter the path to the file from which the data is loaded:  C:\\\\Users\\\\PC\\\\Documents\\\\data_scientists\\\\data\\\\darmstadt\\\\darmstadt_UTD19.csv\n",
      "Enter the path to the file from which the detectors data is loaded:  C:\\\\Users\\\\PC\\\\Documents\\\\data_scientists\\\\data\\\\darmstadt\\\\darmstadt_sensors.csv\n",
      "Enter the path to where the file should be saved is saved:  C:\\\\Users\\\\PC\\\\Documents\\\\data_scientists\\\\data\\\\darmstadt\n"
     ]
    },
    {
     "name": "stdout",
     "output_type": "stream",
     "text": [
      "Loading data from:  C:\\\\Users\\\\PC\\\\Documents\\\\data_scientists\\\\data\\\\darmstadt\\\\darmstadt_UTD19.csv\n",
      "Loading data from:  C:\\\\Users\\\\PC\\\\Documents\\\\data_scientists\\\\data\\\\darmstadt\\\\darmstadt_sensors.csv\n",
      "Data loaded\n",
      "Preprocessing data\n"
     ]
    },
    {
     "name": "stderr",
     "output_type": "stream",
     "text": [
      "C:\\Users\\PC\\Documents\\data_scientists\\src\\helpers\\data_engineering_library.py:157: SettingWithCopyWarning: \n",
      "A value is trying to be set on a copy of a slice from a DataFrame.\n",
      "Try using .loc[row_indexer,col_indexer] = value instead\n",
      "\n",
      "See the caveats in the documentation: https://pandas.pydata.org/pandas-docs/stable/user_guide/indexing.html#returning-a-view-versus-a-copy\n",
      "  df['day'] = pd.to_datetime(df['day'])\n",
      "C:\\Users\\PC\\Documents\\data_scientists\\src\\helpers\\data_engineering_library.py:158: SettingWithCopyWarning: \n",
      "A value is trying to be set on a copy of a slice from a DataFrame.\n",
      "Try using .loc[row_indexer,col_indexer] = value instead\n",
      "\n",
      "See the caveats in the documentation: https://pandas.pydata.org/pandas-docs/stable/user_guide/indexing.html#returning-a-view-versus-a-copy\n",
      "  df['weekday'] = df['day'].dt.day_name()\n"
     ]
    },
    {
     "name": "stdout",
     "output_type": "stream",
     "text": [
      "Errors found and dropped: 2650344\n",
      "Preprocessing data took 0 seconds\n",
      "Drop bad days\n"
     ]
    },
    {
     "name": "stderr",
     "output_type": "stream",
     "text": [
      "C:\\Users\\PC\\Documents\\data_scientists\\src\\helpers\\data_engineering_library.py:467: FutureWarning: DataFrameGroupBy.apply operated on the grouping columns. This behavior is deprecated, and in a future version of pandas the grouping columns will be excluded from the operation. Either pass `include_groups=False` to exclude the groupings or explicitly select the grouping columns after groupby to silence this warning.\n",
      "  filtered_df = df.groupby(['day', 'detid']).apply(drop_by_group).reset_index(drop=True)\n"
     ]
    },
    {
     "name": "stdout",
     "output_type": "stream",
     "text": [
      "Total outliers detected and removed: 2304\n",
      "Drop bad days took 4 seconds\n",
      "Clipping outliers on occ\n",
      "Total outliers clipped: 157\n",
      "Clipping outliers on occ took 3 seconds\n",
      "Clipping outliers on flow\n",
      "Total outliers clipped: 0\n",
      "Clipping outliers on flow took 3 seconds\n",
      "Calculating traffic\n",
      "Calculating traffic took 0 seconds\n",
      "Droping outliers on traffic\n",
      "Total outliers dropped: 82235\n",
      "Droping outliers on traffic took 1 seconds\n",
      "Detecting anomalies\n",
      "Anomalies detected based on IQR: 3\n"
     ]
    },
    {
     "name": "stderr",
     "output_type": "stream",
     "text": [
      "C:\\Users\\PC\\Documents\\data_scientists\\src\\helpers\\data_engineering_library.py:564: FutureWarning: DataFrameGroupBy.apply operated on the grouping columns. This behavior is deprecated, and in a future version of pandas the grouping columns will be excluded from the operation. Either pass `include_groups=False` to exclude the groupings or explicitly select the grouping columns after groupby to silence this warning.\n",
      "  metrics = df.groupby('detid').apply(calculate_metrics).reset_index()\n"
     ]
    },
    {
     "name": "stdout",
     "output_type": "stream",
     "text": [
      "Anomalies detected based on IQR or range conditions: 9\n",
      "Anomalies not enough data: 208\n",
      "Total anomalies detected: 208\n",
      "Detecting anomalies took 1 seconds\n",
      "Exporting anomalies to:  C:\\\\Users\\\\PC\\\\Documents\\\\data_scientists\\\\data\\\\darmstadt\n",
      "Exporting anomalies took 0 seconds\n",
      "Combine datapoints\n",
      "Combine datapoints took 0 seconds\n",
      "Clipping to max traffic value\n",
      "Clipping to max traffic value took 0 seconds\n",
      "Normalizing traffic\n",
      "traffic range was between:nan and nan\n",
      "Normalizing traffic took 0 seconds\n",
      "Merging dataframes\n",
      "Merging dataframes took 0 seconds\n",
      "Final processing\n",
      "Final processing took 0 seconds\n",
      "Exporting modified dataset to:  C:\\\\Users\\\\PC\\\\Documents\\\\data_scientists\\\\data\\\\darmstadt\n",
      "Exporting modified dataset took 0 seconds\n",
      "Script finished\n",
      "Total script execution time: 14 seconds\n"
     ]
    }
   ],
   "source": [
    "import pandas as pd \n",
    "from datetime import timedelta\n",
    "import time\n",
    "import helpers.data_engineering_library as dlib\n",
    "\n",
    "def get_user_input():\n",
    "    \"\"\"\n",
    "    Prompts the user to input file paths for loading and saving data.\n",
    "\n",
    "    This function prompts the user to enter three file paths:\n",
    "    1. The path to the file from which the data is loaded.\n",
    "    2. The path to the file from which the detectors data is loaded.\n",
    "    3. The path to where the file should be saved.\n",
    "\n",
    "    Example paths:\n",
    "    - C:\\\\Users\\\\samue\\\\OneDrive\\\\AIML\\\\HS2024\\\\Data Sicence Projekt\\\\Data\\\\London_UTD19.csv\n",
    "    - C:\\\\Users\\\\samue\\\\OneDrive\\\\AIML\\\\HS2024\\\\Data Sicence Projekt\\\\Data\\\\London_detectors.csv\n",
    "    - C:\\\\Users\\\\samue\\\\OneDrive\\\\AIML\\\\HS2024\\\\Data Sicence Projekt\\\\Data\n",
    "\n",
    "    Returns:\n",
    "    tuple: A tuple containing three strings:\n",
    "        - pathFrom (str): The path to the file from which the data is loaded.\n",
    "        - pathDetectors (str): The path to the file from which the detectors data is loaded.\n",
    "        - pathTo (str): The path to where the file should be saved.\n",
    "    \"\"\"\n",
    "    pathFrom = input(\"Enter the path to the file from which the data is loaded: \")\n",
    "    pathDetectors = input(\"Enter the path to the file from which the detectors data is loaded: \")\n",
    "    pathTo = input(\"Enter the path to where the file should be saved is saved: \")\n",
    "    #Only for testing\n",
    "    #pathFrom = r\"C:\\Users\\samue\\OneDrive\\AIML\\HS2024\\Data Sicence Projekt\\Data\\London\\London_UTD19.csv\"\n",
    "    #pathDetectors = r\"C:\\Users\\samue\\OneDrive\\AIML\\HS2024\\Data Sicence Projekt\\Data\\London\\London_detectors.csv\"\n",
    "    #pathTo = r\"C:\\Users\\samue\\OneDrive\\AIML\\HS2024\\Data Sicence Projekt\\Data\"\n",
    "    return pathFrom, pathTo, pathDetectors\n",
    "\n",
    "def export_modified_dataset(df, path):\n",
    "    \"\"\"\n",
    "    Export the modified DataFrame to a CSV file.\n",
    "\n",
    "    Parameters:\n",
    "    df (pd.DataFrame): The modified DataFrame.\n",
    "    path (str): The path to save the CSV file.\n",
    "    \"\"\"\n",
    "    df.to_csv(f\"{path}\\\\London_UTD19_modified.csv\", index=False)\n",
    "#-------------------------Main-------------------------------------\n",
    "print(\"Starting script\")\n",
    "path_from, path_to, path_detectors = get_user_input()\n",
    "start_time = time.time()\n",
    "\n",
    "print(\"Loading data from: \", path_from)\n",
    "dataframe_London_UTD19 = pd.DataFrame(dlib.load_data(path=path_from, nrows=None))\n",
    "print(\"Loading data from: \", path_detectors)\n",
    "dataframe_detectors = pd.DataFrame(dlib.load_data(path=path_detectors))\n",
    "print(\"Data loaded\")\n",
    "\n",
    "print(\"Preprocessing data\")\n",
    "preprocess_start = time.time()\n",
    "dataframe_London_UTD19, errors = dlib.preprocess_dataframe(dataframe_London_UTD19)\n",
    "print(f\"Errors found and dropped: {errors}\")\n",
    "print(f\"Preprocessing data took {round(time.time() - preprocess_start)} seconds\")\n",
    "\n",
    "print(\"Drop bad days\")\n",
    "drop_bad_days_start = time.time()\n",
    "dataframe_London_UTD19 = dlib.drop_false_values_by_date(dataframe_London_UTD19, column='flow')\n",
    "print(f\"Drop bad days took {round(time.time() - drop_bad_days_start)} seconds\")\n",
    "\n",
    "print(\"Clipping outliers on occ\")\n",
    "clip_outliers_start = time.time()\n",
    "dataframe_London_UTD19 = dlib.clip_outliers(dataframe_London_UTD19, column='occ', group_by_detid=True, outlier_factor=3)\n",
    "print(f\"Clipping outliers on occ took {round(time.time() - clip_outliers_start)} seconds\")\n",
    "\n",
    "print(\"Clipping outliers on flow\")\n",
    "clip_outliers_start = time.time()\n",
    "dataframe_London_UTD19 = dlib.clip_outliers(dataframe_London_UTD19, column='flow', group_by_detid=True, outlier_factor=3)\n",
    "print(f\"Clipping outliers on flow took {round(time.time() - clip_outliers_start)} seconds\")\n",
    "\n",
    "print(\"Calculating traffic\")\n",
    "traffic_start = time.time()\n",
    "dataframe_London_UTD19 = dlib.calculate_traffic_speed(dataframe_London_UTD19)\n",
    "print(f\"Calculating traffic took {round(time.time() - traffic_start)} seconds\")\n",
    "\n",
    "print(\"Droping outliers on traffic\")\n",
    "drop_outliers_start = time.time()\n",
    "dataframe_London_UTD19 = dlib.drop_outliers(dataframe_London_UTD19, column='traffic', group_by_detid=True, outlier_factor=2)\n",
    "print(f\"Droping outliers on traffic took {round(time.time() - drop_outliers_start)} seconds\")\n",
    "\n",
    "print(\"Detecting anomalies\")\n",
    "detect_anomalies_start = time.time()\n",
    "dataframe_anomalies = dlib.detect_anomalies(dataframe_London_UTD19, column='traffic', factor=3, min_IQR=5, min_days=10, min_daily_records=230)\n",
    "dataframe_London_UTD19 = dataframe_London_UTD19[~dataframe_London_UTD19['detid'].isin(dataframe_anomalies['detid'])]\n",
    "print(f\"Detecting anomalies took {round(time.time() - detect_anomalies_start)} seconds\")\n",
    "\n",
    "print(\"Exporting anomalies to: \", path_to)\n",
    "exporting_anomalies_start = time.time()\n",
    "dataframe_anomalies.to_csv(f\"{path_to}\\\\Anomalies.csv\", index=False)\n",
    "print(f\"Exporting anomalies took {round(time.time() - exporting_anomalies_start)} seconds\")\n",
    "\n",
    "print(\"Combine datapoints\")\n",
    "combine_datapoints_start = time.time()\n",
    "dataframe_London_UTD19 = dlib.combine_datapoints(dataframe_London_UTD19, ratio=3600)\n",
    "print(f\"Combine datapoints took {round(time.time() - combine_datapoints_start)} seconds\")\n",
    "\n",
    "print(\"Clipping to max traffic value\")\n",
    "clip_max_traffic_start = time.time()\n",
    "dataframe_London_UTD19 = dlib.clip_to_high_values(dataframe_London_UTD19, column='traffic', threshold=200)\n",
    "print(f\"Clipping to max traffic value took {round(time.time() - clip_max_traffic_start)} seconds\")\n",
    "\n",
    "print(\"Normalizing traffic\")\n",
    "normalize_traffic_start = time.time()\n",
    "dataframe_London_UTD19 = dlib.normalize_traffic(dataframe_London_UTD19)\n",
    "print(f\"Normalizing traffic took {round(time.time() - normalize_traffic_start)} seconds\")\n",
    "\n",
    "print(\"Merging dataframes\")\n",
    "merge_dataframes_start = time.time()\n",
    "dataframe_London_UTD19 = dlib.merge_dataframes_on_detid(dataframe_London_UTD19, dataframe_detectors)\n",
    "print(f\"Merging dataframes took {round(time.time() - merge_dataframes_start)} seconds\")\n",
    "\n",
    "print(\"Final processing\")\n",
    "final_process_start = time.time()\n",
    "dataframe_London_UTD19 = dlib.final_process_dataframe(dataframe_London_UTD19)\n",
    "print(f\"Final processing took {round(time.time() - final_process_start)} seconds\")\n",
    "\n",
    "print(\"Exporting modified dataset to: \", path_to)\n",
    "export_start = time.time()\n",
    "export_modified_dataset(dataframe_London_UTD19, path_to)\n",
    "print(f\"Exporting modified dataset took {round(time.time() - export_start)} seconds\")\n",
    "\n",
    "total_time = time.time() - start_time\n",
    "print(\"Script finished\")\n",
    "print(f\"Total script execution time: {round(total_time)} seconds\")"
   ]
  },
  {
   "cell_type": "code",
   "execution_count": null,
   "id": "d770b0c3-d511-4b59-aaa4-e57680ace1fd",
   "metadata": {},
   "outputs": [],
   "source": []
  }
 ],
 "metadata": {
  "kernelspec": {
   "display_name": "Python (AIDev)",
   "language": "python",
   "name": "aidev"
  },
  "language_info": {
   "codemirror_mode": {
    "name": "ipython",
    "version": 3
   },
   "file_extension": ".py",
   "mimetype": "text/x-python",
   "name": "python",
   "nbconvert_exporter": "python",
   "pygments_lexer": "ipython3",
   "version": "3.9.23"
  }
 },
 "nbformat": 4,
 "nbformat_minor": 5
}
